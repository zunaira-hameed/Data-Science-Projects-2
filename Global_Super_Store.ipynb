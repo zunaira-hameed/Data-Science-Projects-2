{
  "nbformat": 4,
  "nbformat_minor": 0,
  "metadata": {
    "colab": {
      "provenance": []
    },
    "kernelspec": {
      "name": "python3",
      "display_name": "Python 3"
    },
    "language_info": {
      "name": "python"
    }
  },
  "cells": [
    {
      "cell_type": "code",
      "source": [
        "from google.colab import drive\n",
        "drive.mount('/content/drive')"
      ],
      "metadata": {
        "colab": {
          "base_uri": "https://localhost:8080/"
        },
        "id": "U_qvSSHp7iEu",
        "outputId": "6363c8d8-1a31-442a-d24e-1604a9571400"
      },
      "execution_count": 24,
      "outputs": [
        {
          "output_type": "stream",
          "name": "stdout",
          "text": [
            "Drive already mounted at /content/drive; to attempt to forcibly remount, call drive.mount(\"/content/drive\", force_remount=True).\n"
          ]
        }
      ]
    },
    {
      "cell_type": "markdown",
      "metadata": {
        "id": "dd8e3573"
      },
      "source": [
        "# Task\n",
        "Create a Streamlit dashboard using the \"Global Superstore Dataset\" to analyze sales, profit, and segment-wise performance. The dashboard should include filters for Region, Category, and Sub-Category, display KPIs for Total Sales and Profit, and visualize the top 5 customers by sales. The dataset is located at \"/tmp/netflix_titles.csv\"."
      ]
    },
    {
      "cell_type": "markdown",
      "metadata": {
        "id": "4b525ee7"
      },
      "source": [
        "## Load the data\n",
        "\n",
        "### Subtask:\n",
        "Load the data from \"/tmp/netflix_titles.csv\" into a dataframe.\n"
      ]
    },
    {
      "cell_type": "markdown",
      "metadata": {
        "id": "0f599cbd"
      },
      "source": [
        "**Reasoning**:\n",
        "The first step is to load the data from the specified CSV file into a pandas DataFrame.\n",
        "\n"
      ]
    },
    {
      "cell_type": "code",
      "metadata": {
        "id": "0ad5f3d6"
      },
      "source": [
        "import pandas as pd\n",
        "\n",
        "try:\n",
        "    df = pd.read_csv(\"//content//drive//MyDrive//Global_Superstore2.csv\", encoding='latin-1')\n",
        "except UnicodeDecodeError:\n",
        "    df = pd.read_csv(\"//content//drive//MyDrive//Global_Superstore2.csv\", encoding='ISO-8859-1')"
      ],
      "execution_count": 29,
      "outputs": []
    },
    {
      "cell_type": "markdown",
      "metadata": {
        "id": "fc66a721"
      },
      "source": [
        "## Clean and prepare the data\n",
        "\n",
        "### Subtask:\n",
        "Handle missing values, data type conversions, and any other necessary data cleaning steps.\n"
      ]
    },
    {
      "cell_type": "markdown",
      "metadata": {
        "id": "3e00c884"
      },
      "source": [
        "**Reasoning**:\n",
        "Check for missing values in the DataFrame and display the sum for each column.\n",
        "\n"
      ]
    },
    {
      "cell_type": "code",
      "metadata": {
        "colab": {
          "base_uri": "https://localhost:8080/"
        },
        "id": "8640df93",
        "outputId": "a7b6714a-6543-40eb-a2aa-cf7e98149857"
      },
      "source": [
        "print(\"Missing values before cleaning:\")\n",
        "print(df.isnull().sum())"
      ],
      "execution_count": 12,
      "outputs": [
        {
          "output_type": "stream",
          "name": "stdout",
          "text": [
            "Missing values before cleaning:\n",
            "Row ID            0\n",
            "Order ID          0\n",
            "Order Date        0\n",
            "Ship Date         0\n",
            "Ship Mode         0\n",
            "Customer ID       0\n",
            "Customer Name     0\n",
            "Segment           0\n",
            "City              0\n",
            "State             0\n",
            "Country           0\n",
            "Postal Code       0\n",
            "Market            0\n",
            "Region            0\n",
            "Product ID        0\n",
            "Category          0\n",
            "Sub-Category      0\n",
            "Product Name      0\n",
            "Sales             0\n",
            "Quantity          0\n",
            "Discount          0\n",
            "Profit            0\n",
            "Shipping Cost     0\n",
            "Order Priority    0\n",
            "dtype: int64\n"
          ]
        }
      ]
    },
    {
      "cell_type": "markdown",
      "metadata": {
        "id": "144a1b47"
      },
      "source": [
        "**Reasoning**:\n",
        "Since there are no missing values, the next step is to convert the 'Order Date' and 'Ship Date' columns to datetime objects and examine other column data types for potential conversions.\n",
        "\n"
      ]
    },
    {
      "cell_type": "code",
      "metadata": {
        "colab": {
          "base_uri": "https://localhost:8080/"
        },
        "id": "1d7f6895",
        "outputId": "4928e095-d9c5-4d7a-b144-5d9157852423"
      },
      "source": [
        "df['Order Date'] = pd.to_datetime(df['Order Date'])\n",
        "df['Ship Date'] = pd.to_datetime(df['Ship Date'])\n",
        "\n",
        "print(\"\\nData types after date conversion:\")\n",
        "print(df.dtypes)"
      ],
      "execution_count": 13,
      "outputs": [
        {
          "output_type": "stream",
          "name": "stdout",
          "text": [
            "\n",
            "Data types after date conversion:\n",
            "Row ID                     int64\n",
            "Order ID                  object\n",
            "Order Date        datetime64[ns]\n",
            "Ship Date         datetime64[ns]\n",
            "Ship Mode                 object\n",
            "Customer ID               object\n",
            "Customer Name             object\n",
            "Segment                   object\n",
            "City                      object\n",
            "State                     object\n",
            "Country                   object\n",
            "Postal Code                int64\n",
            "Market                    object\n",
            "Region                    object\n",
            "Product ID                object\n",
            "Category                  object\n",
            "Sub-Category              object\n",
            "Product Name              object\n",
            "Sales                    float64\n",
            "Quantity                   int64\n",
            "Discount                 float64\n",
            "Profit                   float64\n",
            "Shipping Cost            float64\n",
            "Order Priority            object\n",
            "dtype: object\n"
          ]
        }
      ]
    },
    {
      "cell_type": "markdown",
      "metadata": {
        "id": "ecf29a58"
      },
      "source": [
        "## Install streamlit\n",
        "\n",
        "### Subtask:\n",
        "Install the Streamlit library.\n"
      ]
    },
    {
      "cell_type": "markdown",
      "metadata": {
        "id": "f95ff2f6"
      },
      "source": [
        "**Reasoning**:\n",
        "Check for missing values in the DataFrame and display the sum for each column to understand the extent of missing data."
      ]
    },
    {
      "cell_type": "markdown",
      "source": [
        "##Clean and Prepare dataset"
      ],
      "metadata": {
        "id": "wBDi7szO-W7T"
      }
    },
    {
      "cell_type": "code",
      "metadata": {
        "colab": {
          "base_uri": "https://localhost:8080/"
        },
        "id": "cf7b00e0",
        "outputId": "c87da2ea-9cfc-468b-84b3-4e8139ade011"
      },
      "source": [
        "print(\"Missing values before cleaning:\")\n",
        "print(df.isnull().sum())"
      ],
      "execution_count": 30,
      "outputs": [
        {
          "output_type": "stream",
          "name": "stdout",
          "text": [
            "Missing values before cleaning:\n",
            "Row ID                0\n",
            "Order ID              0\n",
            "Order Date            0\n",
            "Ship Date             0\n",
            "Ship Mode             0\n",
            "Customer ID           0\n",
            "Customer Name         0\n",
            "Segment               0\n",
            "City                  0\n",
            "State                 0\n",
            "Country               0\n",
            "Postal Code       41296\n",
            "Market                0\n",
            "Region                0\n",
            "Product ID            0\n",
            "Category              0\n",
            "Sub-Category          0\n",
            "Product Name          0\n",
            "Sales                 0\n",
            "Quantity              0\n",
            "Discount              0\n",
            "Profit                0\n",
            "Shipping Cost         0\n",
            "Order Priority        0\n",
            "dtype: int64\n"
          ]
        }
      ]
    },
    {
      "cell_type": "markdown",
      "metadata": {
        "id": "3a91d725"
      },
      "source": [
        "**Reasoning**:\n",
        "Convert 'Order Date' and 'Ship Date' columns to datetime objects, fill missing 'Postal Code' values with 0, and display the info to verify the changes."
      ]
    },
    {
      "cell_type": "code",
      "metadata": {
        "colab": {
          "base_uri": "https://localhost:8080/",
          "height": 608
        },
        "id": "79a8b7d3",
        "outputId": "4881a2a1-326a-4ec7-b572-c0085418fc3e"
      },
      "source": [
        "df['Order Date'] = pd.to_datetime(df['Order Date'], format='%d-%m-%Y')\n",
        "df['Ship Date'] = pd.to_datetime(df['Ship Date'], format='%d-%m-%Y')\n",
        "\n",
        "df['Postal Code'] = df['Postal Code'].fillna(0).astype(int)\n",
        "\n",
        "display(df.info())"
      ],
      "execution_count": 31,
      "outputs": [
        {
          "output_type": "stream",
          "name": "stdout",
          "text": [
            "<class 'pandas.core.frame.DataFrame'>\n",
            "RangeIndex: 51290 entries, 0 to 51289\n",
            "Data columns (total 24 columns):\n",
            " #   Column          Non-Null Count  Dtype         \n",
            "---  ------          --------------  -----         \n",
            " 0   Row ID          51290 non-null  int64         \n",
            " 1   Order ID        51290 non-null  object        \n",
            " 2   Order Date      51290 non-null  datetime64[ns]\n",
            " 3   Ship Date       51290 non-null  datetime64[ns]\n",
            " 4   Ship Mode       51290 non-null  object        \n",
            " 5   Customer ID     51290 non-null  object        \n",
            " 6   Customer Name   51290 non-null  object        \n",
            " 7   Segment         51290 non-null  object        \n",
            " 8   City            51290 non-null  object        \n",
            " 9   State           51290 non-null  object        \n",
            " 10  Country         51290 non-null  object        \n",
            " 11  Postal Code     51290 non-null  int64         \n",
            " 12  Market          51290 non-null  object        \n",
            " 13  Region          51290 non-null  object        \n",
            " 14  Product ID      51290 non-null  object        \n",
            " 15  Category        51290 non-null  object        \n",
            " 16  Sub-Category    51290 non-null  object        \n",
            " 17  Product Name    51290 non-null  object        \n",
            " 18  Sales           51290 non-null  float64       \n",
            " 19  Quantity        51290 non-null  int64         \n",
            " 20  Discount        51290 non-null  float64       \n",
            " 21  Profit          51290 non-null  float64       \n",
            " 22  Shipping Cost   51290 non-null  float64       \n",
            " 23  Order Priority  51290 non-null  object        \n",
            "dtypes: datetime64[ns](2), float64(4), int64(3), object(15)\n",
            "memory usage: 9.4+ MB\n"
          ]
        },
        {
          "output_type": "display_data",
          "data": {
            "text/plain": [
              "None"
            ]
          },
          "metadata": {}
        }
      ]
    },
    {
      "cell_type": "markdown",
      "metadata": {
        "id": "36c2ca96"
      },
      "source": [
        "## Install streamlit\n",
        "\n",
        "### Subtask:\n",
        "Install the Streamlit library."
      ]
    },
    {
      "cell_type": "markdown",
      "metadata": {
        "id": "918420fb"
      },
      "source": [
        "**Reasoning**:\n",
        "Install the streamlit library using pip."
      ]
    },
    {
      "cell_type": "code",
      "metadata": {
        "colab": {
          "base_uri": "https://localhost:8080/"
        },
        "id": "ecb84939",
        "outputId": "eff98a44-516e-4b64-a5ef-b8ce118d8aec"
      },
      "source": [
        "!pip install streamlit"
      ],
      "execution_count": 32,
      "outputs": [
        {
          "output_type": "stream",
          "name": "stdout",
          "text": [
            "Requirement already satisfied: streamlit in /usr/local/lib/python3.11/dist-packages (1.47.0)\n",
            "Requirement already satisfied: altair<6,>=4.0 in /usr/local/lib/python3.11/dist-packages (from streamlit) (5.5.0)\n",
            "Requirement already satisfied: blinker<2,>=1.5.0 in /usr/local/lib/python3.11/dist-packages (from streamlit) (1.9.0)\n",
            "Requirement already satisfied: cachetools<7,>=4.0 in /usr/local/lib/python3.11/dist-packages (from streamlit) (5.5.2)\n",
            "Requirement already satisfied: click<9,>=7.0 in /usr/local/lib/python3.11/dist-packages (from streamlit) (8.2.1)\n",
            "Requirement already satisfied: numpy<3,>=1.23 in /usr/local/lib/python3.11/dist-packages (from streamlit) (2.0.2)\n",
            "Requirement already satisfied: packaging<26,>=20 in /usr/local/lib/python3.11/dist-packages (from streamlit) (25.0)\n",
            "Requirement already satisfied: pandas<3,>=1.4.0 in /usr/local/lib/python3.11/dist-packages (from streamlit) (2.2.2)\n",
            "Requirement already satisfied: pillow<12,>=7.1.0 in /usr/local/lib/python3.11/dist-packages (from streamlit) (11.2.1)\n",
            "Requirement already satisfied: protobuf<7,>=3.20 in /usr/local/lib/python3.11/dist-packages (from streamlit) (5.29.5)\n",
            "Requirement already satisfied: pyarrow>=7.0 in /usr/local/lib/python3.11/dist-packages (from streamlit) (18.1.0)\n",
            "Requirement already satisfied: requests<3,>=2.27 in /usr/local/lib/python3.11/dist-packages (from streamlit) (2.32.3)\n",
            "Requirement already satisfied: tenacity<10,>=8.1.0 in /usr/local/lib/python3.11/dist-packages (from streamlit) (8.5.0)\n",
            "Requirement already satisfied: toml<2,>=0.10.1 in /usr/local/lib/python3.11/dist-packages (from streamlit) (0.10.2)\n",
            "Requirement already satisfied: typing-extensions<5,>=4.4.0 in /usr/local/lib/python3.11/dist-packages (from streamlit) (4.14.1)\n",
            "Requirement already satisfied: watchdog<7,>=2.1.5 in /usr/local/lib/python3.11/dist-packages (from streamlit) (6.0.0)\n",
            "Requirement already satisfied: gitpython!=3.1.19,<4,>=3.0.7 in /usr/local/lib/python3.11/dist-packages (from streamlit) (3.1.44)\n",
            "Requirement already satisfied: pydeck<1,>=0.8.0b4 in /usr/local/lib/python3.11/dist-packages (from streamlit) (0.9.1)\n",
            "Requirement already satisfied: tornado!=6.5.0,<7,>=6.0.3 in /usr/local/lib/python3.11/dist-packages (from streamlit) (6.4.2)\n",
            "Requirement already satisfied: jinja2 in /usr/local/lib/python3.11/dist-packages (from altair<6,>=4.0->streamlit) (3.1.6)\n",
            "Requirement already satisfied: jsonschema>=3.0 in /usr/local/lib/python3.11/dist-packages (from altair<6,>=4.0->streamlit) (4.24.0)\n",
            "Requirement already satisfied: narwhals>=1.14.2 in /usr/local/lib/python3.11/dist-packages (from altair<6,>=4.0->streamlit) (1.47.0)\n",
            "Requirement already satisfied: gitdb<5,>=4.0.1 in /usr/local/lib/python3.11/dist-packages (from gitpython!=3.1.19,<4,>=3.0.7->streamlit) (4.0.12)\n",
            "Requirement already satisfied: python-dateutil>=2.8.2 in /usr/local/lib/python3.11/dist-packages (from pandas<3,>=1.4.0->streamlit) (2.9.0.post0)\n",
            "Requirement already satisfied: pytz>=2020.1 in /usr/local/lib/python3.11/dist-packages (from pandas<3,>=1.4.0->streamlit) (2025.2)\n",
            "Requirement already satisfied: tzdata>=2022.7 in /usr/local/lib/python3.11/dist-packages (from pandas<3,>=1.4.0->streamlit) (2025.2)\n",
            "Requirement already satisfied: charset-normalizer<4,>=2 in /usr/local/lib/python3.11/dist-packages (from requests<3,>=2.27->streamlit) (3.4.2)\n",
            "Requirement already satisfied: idna<4,>=2.5 in /usr/local/lib/python3.11/dist-packages (from requests<3,>=2.27->streamlit) (3.10)\n",
            "Requirement already satisfied: urllib3<3,>=1.21.1 in /usr/local/lib/python3.11/dist-packages (from requests<3,>=2.27->streamlit) (2.4.0)\n",
            "Requirement already satisfied: certifi>=2017.4.17 in /usr/local/lib/python3.11/dist-packages (from requests<3,>=2.27->streamlit) (2025.7.14)\n",
            "Requirement already satisfied: smmap<6,>=3.0.1 in /usr/local/lib/python3.11/dist-packages (from gitdb<5,>=4.0.1->gitpython!=3.1.19,<4,>=3.0.7->streamlit) (5.0.2)\n",
            "Requirement already satisfied: MarkupSafe>=2.0 in /usr/local/lib/python3.11/dist-packages (from jinja2->altair<6,>=4.0->streamlit) (3.0.2)\n",
            "Requirement already satisfied: attrs>=22.2.0 in /usr/local/lib/python3.11/dist-packages (from jsonschema>=3.0->altair<6,>=4.0->streamlit) (25.3.0)\n",
            "Requirement already satisfied: jsonschema-specifications>=2023.03.6 in /usr/local/lib/python3.11/dist-packages (from jsonschema>=3.0->altair<6,>=4.0->streamlit) (2025.4.1)\n",
            "Requirement already satisfied: referencing>=0.28.4 in /usr/local/lib/python3.11/dist-packages (from jsonschema>=3.0->altair<6,>=4.0->streamlit) (0.36.2)\n",
            "Requirement already satisfied: rpds-py>=0.7.1 in /usr/local/lib/python3.11/dist-packages (from jsonschema>=3.0->altair<6,>=4.0->streamlit) (0.26.0)\n",
            "Requirement already satisfied: six>=1.5 in /usr/local/lib/python3.11/dist-packages (from python-dateutil>=2.8.2->pandas<3,>=1.4.0->streamlit) (1.17.0)\n"
          ]
        }
      ]
    },
    {
      "cell_type": "markdown",
      "metadata": {
        "id": "2ae604dd"
      },
      "source": [
        "## Build the streamlit app structure\n",
        "\n",
        "### Subtask:\n",
        "Create the basic structure of the Streamlit application."
      ]
    },
    {
      "cell_type": "markdown",
      "metadata": {
        "id": "14448548"
      },
      "source": [
        "**Reasoning**:\n",
        "Create the basic structure of the Streamlit application by importing the library, setting page configuration, adding a title and description, and including placeholders for future sections."
      ]
    },
    {
      "cell_type": "code",
      "metadata": {
        "colab": {
          "base_uri": "https://localhost:8080/"
        },
        "id": "5ae7ac97",
        "outputId": "529b6fba-3391-4684-afca-fcba2775759c"
      },
      "source": [
        "import streamlit as st\n",
        "\n",
        "st.set_page_config(page_title=\"Global Superstore Dashboard\", page_icon=\":bar_chart:\")\n",
        "\n",
        "st.title(\"Global Superstore Sales and Profit Analysis\")\n",
        "\n",
        "st.write(\"This dashboard provides an analysis of sales, profit, and segment-wise performance using the Global Superstore dataset.\")\n",
        "\n",
        "# --- Filters Section ---\n",
        "# st.sidebar.header(\"Filter Options\")\n",
        "# Add filter widgets here later\n",
        "\n",
        "# --- KPIs Section ---\n",
        "# st.header(\"Key Performance Indicators\")\n",
        "# Display KPI values here later\n",
        "\n",
        "# --- Visualizations Section ---\n",
        "# st.header(\"Visualizations\")\n",
        "# Add charts and tables here later"
      ],
      "execution_count": 33,
      "outputs": [
        {
          "output_type": "stream",
          "name": "stderr",
          "text": [
            "2025-07-18 19:14:58.772 Thread 'MainThread': missing ScriptRunContext! This warning can be ignored when running in bare mode.\n",
            "2025-07-18 19:14:58.773 Thread 'MainThread': missing ScriptRunContext! This warning can be ignored when running in bare mode.\n",
            "2025-07-18 19:14:58.774 Thread 'MainThread': missing ScriptRunContext! This warning can be ignored when running in bare mode.\n",
            "2025-07-18 19:14:58.775 Thread 'MainThread': missing ScriptRunContext! This warning can be ignored when running in bare mode.\n",
            "2025-07-18 19:14:58.783 Thread 'MainThread': missing ScriptRunContext! This warning can be ignored when running in bare mode.\n",
            "2025-07-18 19:14:58.784 Thread 'MainThread': missing ScriptRunContext! This warning can be ignored when running in bare mode.\n",
            "2025-07-18 19:14:58.785 Thread 'MainThread': missing ScriptRunContext! This warning can be ignored when running in bare mode.\n"
          ]
        }
      ]
    },
    {
      "cell_type": "markdown",
      "metadata": {
        "id": "82dce15e"
      },
      "source": [
        "## Implement filters\n",
        "\n",
        "### Subtask:\n",
        "Add interactive filters for Region, Category, and Sub-Category."
      ]
    },
    {
      "cell_type": "markdown",
      "metadata": {
        "id": "5693587a"
      },
      "source": [
        "**Reasoning**:\n",
        "Create the multiselect filters for Region, Category, and Sub-Category in the Streamlit sidebar and apply the selections to the DataFrame."
      ]
    },
    {
      "cell_type": "code",
      "metadata": {
        "colab": {
          "base_uri": "https://localhost:8080/"
        },
        "id": "6d9c0b42",
        "outputId": "b32ee2cd-cfca-4a13-d2c3-1b74d945cc3a"
      },
      "source": [
        "import streamlit as st\n",
        "\n",
        "st.sidebar.header(\"Filter Options\")\n",
        "\n",
        "# Create multiselect filter for Region\n",
        "selected_regions = st.sidebar.multiselect(\n",
        "    \"Select Region\",\n",
        "    options=df['Region'].unique().tolist(),\n",
        "    default=df['Region'].unique().tolist()\n",
        ")\n",
        "\n",
        "# Create multiselect filter for Category\n",
        "selected_categories = st.sidebar.multiselect(\n",
        "    \"Select Category\",\n",
        "    options=df['Category'].unique().tolist(),\n",
        "    default=df['Category'].unique().tolist()\n",
        ")\n",
        "\n",
        "# Create multiselect filter for Sub-Category\n",
        "selected_sub_categories = st.sidebar.multiselect(\n",
        "    \"Select Sub-Category\",\n",
        "    options=df['Sub-Category'].unique().tolist(),\n",
        "    default=df['Sub-Category'].unique().tolist()\n",
        ")\n",
        "\n",
        "# Apply the filters to the DataFrame\n",
        "df_filtered = df[\n",
        "    df['Region'].isin(selected_regions) &\n",
        "    df['Category'].isin(selected_categories) &\n",
        "    df['Sub-Category'].isin(selected_sub_categories)\n",
        "]\n",
        "\n",
        "# Display the filtered data (optional, for verification)\n",
        "# st.write(\"Filtered Data:\")\n",
        "# st.dataframe(df_filtered.head())"
      ],
      "execution_count": 34,
      "outputs": [
        {
          "output_type": "stream",
          "name": "stderr",
          "text": [
            "2025-07-18 19:15:08.766 Thread 'MainThread': missing ScriptRunContext! This warning can be ignored when running in bare mode.\n",
            "2025-07-18 19:15:08.767 Thread 'MainThread': missing ScriptRunContext! This warning can be ignored when running in bare mode.\n",
            "2025-07-18 19:15:08.768 Thread 'MainThread': missing ScriptRunContext! This warning can be ignored when running in bare mode.\n",
            "2025-07-18 19:15:08.780 Thread 'MainThread': missing ScriptRunContext! This warning can be ignored when running in bare mode.\n",
            "2025-07-18 19:15:08.782 Thread 'MainThread': missing ScriptRunContext! This warning can be ignored when running in bare mode.\n",
            "2025-07-18 19:15:08.783 Thread 'MainThread': missing ScriptRunContext! This warning can be ignored when running in bare mode.\n",
            "2025-07-18 19:15:08.785 Thread 'MainThread': missing ScriptRunContext! This warning can be ignored when running in bare mode.\n",
            "2025-07-18 19:15:08.786 Thread 'MainThread': missing ScriptRunContext! This warning can be ignored when running in bare mode.\n",
            "2025-07-18 19:15:08.787 Thread 'MainThread': missing ScriptRunContext! This warning can be ignored when running in bare mode.\n",
            "2025-07-18 19:15:08.799 Thread 'MainThread': missing ScriptRunContext! This warning can be ignored when running in bare mode.\n",
            "2025-07-18 19:15:08.800 Thread 'MainThread': missing ScriptRunContext! This warning can be ignored when running in bare mode.\n",
            "2025-07-18 19:15:08.801 Thread 'MainThread': missing ScriptRunContext! This warning can be ignored when running in bare mode.\n",
            "2025-07-18 19:15:08.803 Thread 'MainThread': missing ScriptRunContext! This warning can be ignored when running in bare mode.\n",
            "2025-07-18 19:15:08.804 Thread 'MainThread': missing ScriptRunContext! This warning can be ignored when running in bare mode.\n",
            "2025-07-18 19:15:08.805 Thread 'MainThread': missing ScriptRunContext! This warning can be ignored when running in bare mode.\n",
            "2025-07-18 19:15:08.816 Thread 'MainThread': missing ScriptRunContext! This warning can be ignored when running in bare mode.\n",
            "2025-07-18 19:15:08.816 Thread 'MainThread': missing ScriptRunContext! This warning can be ignored when running in bare mode.\n",
            "2025-07-18 19:15:08.817 Thread 'MainThread': missing ScriptRunContext! This warning can be ignored when running in bare mode.\n",
            "2025-07-18 19:15:08.818 Thread 'MainThread': missing ScriptRunContext! This warning can be ignored when running in bare mode.\n",
            "2025-07-18 19:15:08.819 Thread 'MainThread': missing ScriptRunContext! This warning can be ignored when running in bare mode.\n",
            "2025-07-18 19:15:08.820 Thread 'MainThread': missing ScriptRunContext! This warning can be ignored when running in bare mode.\n"
          ]
        }
      ]
    },
    {
      "cell_type": "markdown",
      "metadata": {
        "id": "b83f7e9d"
      },
      "source": [
        "## Calculate and display KPIs\n",
        "\n",
        "### Subtask:\n",
        "Calculate Total Sales and Total Profit and display them."
      ]
    },
    {
      "cell_type": "markdown",
      "metadata": {
        "id": "6cb51040"
      },
      "source": [
        "**Reasoning**:\n",
        "Calculate the total sales and total profit from the filtered DataFrame and display them as KPIs using Streamlit metrics."
      ]
    },
    {
      "cell_type": "code",
      "metadata": {
        "colab": {
          "base_uri": "https://localhost:8080/"
        },
        "id": "7fdea7d1",
        "outputId": "27c24d80-1168-40f1-bd50-8c919053e5a5"
      },
      "source": [
        "import streamlit as st\n",
        "import pandas as pd\n",
        "\n",
        "# Calculate Total Sales and Total Profit\n",
        "total_sales = df_filtered['Sales'].sum()\n",
        "total_profit = df_filtered['Profit'].sum()\n",
        "\n",
        "# Display KPIs\n",
        "st.header(\"Key Performance Indicators\")\n",
        "st.metric(label=\"Total Sales\", value=f\"${total_sales:,.2f}\")\n",
        "st.metric(label=\"Total Profit\", value=f\"${total_profit:,.2f}\")"
      ],
      "execution_count": 35,
      "outputs": [
        {
          "output_type": "stream",
          "name": "stderr",
          "text": [
            "2025-07-18 19:15:17.903 Thread 'MainThread': missing ScriptRunContext! This warning can be ignored when running in bare mode.\n",
            "2025-07-18 19:15:17.905 Thread 'MainThread': missing ScriptRunContext! This warning can be ignored when running in bare mode.\n",
            "2025-07-18 19:15:17.906 Thread 'MainThread': missing ScriptRunContext! This warning can be ignored when running in bare mode.\n",
            "2025-07-18 19:15:17.907 Thread 'MainThread': missing ScriptRunContext! This warning can be ignored when running in bare mode.\n",
            "2025-07-18 19:15:17.908 Thread 'MainThread': missing ScriptRunContext! This warning can be ignored when running in bare mode.\n",
            "2025-07-18 19:15:17.910 Thread 'MainThread': missing ScriptRunContext! This warning can be ignored when running in bare mode.\n",
            "2025-07-18 19:15:17.911 Thread 'MainThread': missing ScriptRunContext! This warning can be ignored when running in bare mode.\n",
            "2025-07-18 19:15:17.912 Thread 'MainThread': missing ScriptRunContext! This warning can be ignored when running in bare mode.\n",
            "2025-07-18 19:15:17.913 Thread 'MainThread': missing ScriptRunContext! This warning can be ignored when running in bare mode.\n"
          ]
        },
        {
          "output_type": "execute_result",
          "data": {
            "text/plain": [
              "DeltaGenerator()"
            ]
          },
          "metadata": {},
          "execution_count": 35
        }
      ]
    },
    {
      "cell_type": "markdown",
      "metadata": {
        "id": "f59cfe92"
      },
      "source": [
        "## Visualize sales and profit by segment\n",
        "\n",
        "### Subtask:\n",
        "Create charts to show sales and profit by different segments."
      ]
    },
    {
      "cell_type": "markdown",
      "metadata": {
        "id": "201f8f36"
      },
      "source": [
        "**Reasoning**:\n",
        "Group the filtered data by segment and calculate the sum of sales and profit, then reset the index for charting."
      ]
    },
    {
      "cell_type": "code",
      "metadata": {
        "id": "2b6265af"
      },
      "source": [
        "segment_performance = df_filtered.groupby('Segment')[['Sales', 'Profit']].sum().reset_index()"
      ],
      "execution_count": 36,
      "outputs": []
    },
    {
      "cell_type": "markdown",
      "metadata": {
        "id": "fa48e563"
      },
      "source": [
        "**Reasoning**:\n",
        "Create bar charts for sales and profit by segment using the grouped data and display them in the Streamlit app."
      ]
    },
    {
      "cell_type": "code",
      "metadata": {
        "colab": {
          "base_uri": "https://localhost:8080/"
        },
        "id": "71358132",
        "outputId": "492ab4fa-2723-4de5-c84f-5e406091626e"
      },
      "source": [
        "import altair as alt\n",
        "import streamlit as st\n",
        "\n",
        "# Create a bar chart for Sales by Segment\n",
        "sales_chart = alt.Chart(segment_performance).mark_bar().encode(\n",
        "    x=alt.X('Segment', axis=None),\n",
        "    y=alt.Y('Sales', title='Total Sales'),\n",
        "    color='Segment',\n",
        "    tooltip=['Segment', alt.Tooltip('Sales', format='$,.2f')]\n",
        ").properties(\n",
        "    title='Sales by Segment'\n",
        ").interactive()\n",
        "\n",
        "# Create a bar chart for Profit by Segment\n",
        "profit_chart = alt.Chart(segment_performance).mark_bar().encode(\n",
        "    x=alt.X('Segment', axis=None),\n",
        "    y=alt.Y('Profit', title='Total Profit'),\n",
        "    color='Segment',\n",
        "    tooltip=['Segment', alt.Tooltip('Profit', format='$,.2f')]\n",
        ").properties(\n",
        "    title='Profit by Segment'\n",
        ").interactive()\n",
        "\n",
        "st.header(\"Segment Performance\")\n",
        "st.altair_chart(sales_chart, use_container_width=True)\n",
        "st.altair_chart(profit_chart, use_container_width=True)"
      ],
      "execution_count": 37,
      "outputs": [
        {
          "output_type": "stream",
          "name": "stderr",
          "text": [
            "2025-07-18 19:15:35.938 Thread 'MainThread': missing ScriptRunContext! This warning can be ignored when running in bare mode.\n",
            "2025-07-18 19:15:35.939 Thread 'MainThread': missing ScriptRunContext! This warning can be ignored when running in bare mode.\n",
            "2025-07-18 19:15:35.941 Thread 'MainThread': missing ScriptRunContext! This warning can be ignored when running in bare mode.\n",
            "2025-07-18 19:15:35.951 Thread 'MainThread': missing ScriptRunContext! This warning can be ignored when running in bare mode.\n",
            "2025-07-18 19:15:35.952 Thread 'MainThread': missing ScriptRunContext! This warning can be ignored when running in bare mode.\n",
            "2025-07-18 19:15:35.954 Thread 'MainThread': missing ScriptRunContext! This warning can be ignored when running in bare mode.\n",
            "2025-07-18 19:15:35.963 Thread 'MainThread': missing ScriptRunContext! This warning can be ignored when running in bare mode.\n",
            "2025-07-18 19:15:35.964 Thread 'MainThread': missing ScriptRunContext! This warning can be ignored when running in bare mode.\n",
            "2025-07-18 19:15:35.965 Thread 'MainThread': missing ScriptRunContext! This warning can be ignored when running in bare mode.\n"
          ]
        },
        {
          "output_type": "execute_result",
          "data": {
            "text/plain": [
              "DeltaGenerator()"
            ]
          },
          "metadata": {},
          "execution_count": 37
        }
      ]
    },
    {
      "cell_type": "markdown",
      "metadata": {
        "id": "6e7234f6"
      },
      "source": [
        "## Identify and display top customers\n",
        "\n",
        "### Subtask:\n",
        "Identify the top 5 customers based on their total sales and display this information."
      ]
    },
    {
      "cell_type": "markdown",
      "metadata": {
        "id": "30b6893d"
      },
      "source": [
        "**Reasoning**:\n",
        "Calculate the total sales for each customer, sort the results, select the top 5, and display them."
      ]
    },
    {
      "cell_type": "code",
      "metadata": {
        "colab": {
          "base_uri": "https://localhost:8080/"
        },
        "id": "7106b9b0",
        "outputId": "3bc16202-9b5d-476b-b0b0-cbdeb3dfa700"
      },
      "source": [
        "# Group by Customer Name and sum Sales\n",
        "customer_sales = df_filtered.groupby('Customer Name')['Sales'].sum().reset_index()\n",
        "\n",
        "# Sort by Sales in descending order and select the top 5\n",
        "top_5_customers = customer_sales.sort_values(by='Sales', ascending=False).head(5)\n",
        "\n",
        "# Display the top 5 customers\n",
        "st.header(\"Top 5 Customers by Sales\")\n",
        "st.dataframe(top_5_customers)"
      ],
      "execution_count": 38,
      "outputs": [
        {
          "output_type": "stream",
          "name": "stderr",
          "text": [
            "2025-07-18 19:15:47.110 Thread 'MainThread': missing ScriptRunContext! This warning can be ignored when running in bare mode.\n",
            "2025-07-18 19:15:47.111 Thread 'MainThread': missing ScriptRunContext! This warning can be ignored when running in bare mode.\n",
            "2025-07-18 19:15:47.112 Thread 'MainThread': missing ScriptRunContext! This warning can be ignored when running in bare mode.\n",
            "2025-07-18 19:15:47.115 Thread 'MainThread': missing ScriptRunContext! This warning can be ignored when running in bare mode.\n",
            "2025-07-18 19:15:47.116 Thread 'MainThread': missing ScriptRunContext! This warning can be ignored when running in bare mode.\n",
            "2025-07-18 19:15:47.117 Thread 'MainThread': missing ScriptRunContext! This warning can be ignored when running in bare mode.\n"
          ]
        },
        {
          "output_type": "execute_result",
          "data": {
            "text/plain": [
              "DeltaGenerator()"
            ]
          },
          "metadata": {},
          "execution_count": 38
        }
      ]
    },
    {
      "cell_type": "markdown",
      "metadata": {
        "id": "8964a9d2"
      },
      "source": [
        "## Run the streamlit app\n",
        "\n",
        "### Subtask:\n",
        "Provide instructions on how to run the Streamlit application."
      ]
    },
    {
      "cell_type": "markdown",
      "metadata": {
        "id": "21788fec"
      },
      "source": [
        "**Reasoning**:\n",
        "Provide instructions on how to run the Streamlit application."
      ]
    },
    {
      "cell_type": "code",
      "metadata": {
        "colab": {
          "base_uri": "https://localhost:8080/"
        },
        "id": "fb10ec61",
        "outputId": "f43d32dc-55fb-4bfe-fd6b-8f550decaf0d"
      },
      "source": [
        "st.write(\"To run this Streamlit app:\")\n",
        "st.write(\"1. Save the code above as a Python file (e.g., `dashboard.py`).\")\n",
        "st.write(\"2. Open your terminal or command prompt.\")\n",
        "st.write(\"3. Navigate to the directory where you saved the file.\")\n",
        "st.write(\"4. Run the command: `streamlit run dashboard.py`\")\n",
        "st.write(\"5. The app will open in your web browser.\")"
      ],
      "execution_count": 39,
      "outputs": [
        {
          "output_type": "stream",
          "name": "stderr",
          "text": [
            "2025-07-18 19:17:05.433 Thread 'MainThread': missing ScriptRunContext! This warning can be ignored when running in bare mode.\n",
            "2025-07-18 19:17:05.434 Thread 'MainThread': missing ScriptRunContext! This warning can be ignored when running in bare mode.\n",
            "2025-07-18 19:17:05.435 Thread 'MainThread': missing ScriptRunContext! This warning can be ignored when running in bare mode.\n",
            "2025-07-18 19:17:05.436 Thread 'MainThread': missing ScriptRunContext! This warning can be ignored when running in bare mode.\n",
            "2025-07-18 19:17:05.436 Thread 'MainThread': missing ScriptRunContext! This warning can be ignored when running in bare mode.\n",
            "2025-07-18 19:17:05.437 Thread 'MainThread': missing ScriptRunContext! This warning can be ignored when running in bare mode.\n",
            "2025-07-18 19:17:05.440 Thread 'MainThread': missing ScriptRunContext! This warning can be ignored when running in bare mode.\n",
            "2025-07-18 19:17:05.440 Thread 'MainThread': missing ScriptRunContext! This warning can be ignored when running in bare mode.\n",
            "2025-07-18 19:17:05.441 Thread 'MainThread': missing ScriptRunContext! This warning can be ignored when running in bare mode.\n",
            "2025-07-18 19:17:05.442 Thread 'MainThread': missing ScriptRunContext! This warning can be ignored when running in bare mode.\n",
            "2025-07-18 19:17:05.443 Thread 'MainThread': missing ScriptRunContext! This warning can be ignored when running in bare mode.\n",
            "2025-07-18 19:17:05.443 Thread 'MainThread': missing ScriptRunContext! This warning can be ignored when running in bare mode.\n",
            "2025-07-18 19:17:05.444 Thread 'MainThread': missing ScriptRunContext! This warning can be ignored when running in bare mode.\n",
            "2025-07-18 19:17:05.448 Thread 'MainThread': missing ScriptRunContext! This warning can be ignored when running in bare mode.\n",
            "2025-07-18 19:17:05.449 Thread 'MainThread': missing ScriptRunContext! This warning can be ignored when running in bare mode.\n",
            "2025-07-18 19:17:05.450 Thread 'MainThread': missing ScriptRunContext! This warning can be ignored when running in bare mode.\n",
            "2025-07-18 19:17:05.450 Thread 'MainThread': missing ScriptRunContext! This warning can be ignored when running in bare mode.\n",
            "2025-07-18 19:17:05.451 Thread 'MainThread': missing ScriptRunContext! This warning can be ignored when running in bare mode.\n"
          ]
        }
      ]
    },
    {
      "cell_type": "markdown",
      "metadata": {
        "id": "2b52089c"
      },
      "source": [
        "## Summary:\n",
        "\n",
        "### Data Analysis Key Findings\n",
        "\n",
        "* The initial attempt to load the data from the specified path `/tmp/netflix_titles.csv` failed, but a pre-loaded DataFrame `df` containing the \"Global Superstore Dataset\" was available and used for the analysis.\n",
        "* The dataset was found to have missing values in the 'Postal Code' column, which were successfully filled with 0.\n",
        "* The 'Order Date' and 'Ship Date' columns were successfully converted to datetime objects.\n",
        "* Interactive filters for 'Region', 'Category', and 'Sub-Category' were successfully implemented in the Streamlit sidebar.\n",
        "* The total sales and total profit from the filtered data were calculated and formatted as currency for display as KPIs.\n",
        "* Two Altair bar charts were successfully generated to visualize sales and profit by customer segment.\n",
        "* The top 5 customers by total sales were identified and displayed in a table format.\n",
        "* Instructions on how to run the Streamlit application were provided.\n",
        "\n",
        "### Insights or Next Steps\n",
        "\n",
        "* Consider adding more advanced visualizations, such as sales and profit trends over time or geographical maps, to provide deeper insights.\n",
        "* Implement performance optimization techniques for larger datasets to ensure the dashboard remains responsive as data grows.\n",
        "* Explore deploying the Streamlit app to a hosting platform for wider accessibility."
      ]
    }
  ]
}